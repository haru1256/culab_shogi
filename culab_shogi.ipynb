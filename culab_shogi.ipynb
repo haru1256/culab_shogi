{
  "cells": [
    {
      "cell_type": "markdown",
      "metadata": {},
      "source": [
        "# 強い将棋ソフトの創りかた"
      ]
    },
    {
      "cell_type": "markdown",
      "metadata": {},
      "source": [
        "目標：floodgateのレーティングで3500を超える将棋ソフトを作る"
      ]
    }
  ],
  "metadata": {
    "colab": {
      "authorship_tag": "ABX9TyNdGB4tyTvqAmR3cCBNqDrA",
      "include_colab_link": true,
      "provenance": []
    },
    "kernelspec": {
      "display_name": "Python 3",
      "name": "python3"
    },
    "language_info": {
      "name": "python"
    }
  },
  "nbformat": 4,
  "nbformat_minor": 0
}
